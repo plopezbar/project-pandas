{
 "cells": [
  {
   "cell_type": "markdown",
   "metadata": {},
   "source": [
    "# Project Pandas: índice de acciones realizadas:\n",
    "\n",
    "1. Importamos el archivo y hacemos una primera inspección del dataframe.\n",
    "\n",
    "2. Inspeccionamos los valores nulos de cada columna.\n",
    "\n",
    "3. Definimos drop_cols como las columnas con más de 3.000 registros nulos y eliminamos las columnas en drop_cols.\n",
    "\n",
    "4. Eliminamos columnas con información poco relevante o duplicada:\n",
    "    \n",
    "            Date -> duplicada \n",
    "            Name -> poco relevante\n",
    "            pdf -> duplicada\n",
    "            href -> duplicada\n",
    "            Case Number.1 -> duplicada\n",
    "            Case Number.2 -> duplicada\n",
    "            original order -> poco relevante\n",
    "            Species -> baja calidad\n",
    "    \n",
    "    \n",
    "5. Limpiamos la columna Case Number.\n",
    "\n",
    "6. Visualizamos la distribución de los incidentes por años y eliminamos los registros con valores inferiores a 1890 para 'Year'.\n",
    "\n",
    "7. Observamos los valores de la columna 'Type' y unificamos las categorías 'Boat' y 'Boating'.\n",
    "\n",
    "8. Aplicamos mayúsculas a los valores del atributo 'Country' y eliminamos los espacios a principio y final del string.\n",
    "\n",
    "9. Eliminamos los espacios a principio y final del string de las columnas 'Area' y 'Location'.\n",
    "\n",
    "10. En la columna 'Sex', recategorizamos los valores singulares.\n",
    "\n",
    "11. En la columna 'Age', seleccionamos los dos primeros digítos de cada campo y descartamos el resto (se generan algunos errores como en el caso de registros con múltiples edades o registros con meses en lugar de años). Después, convertimos el atributo a numérico.\n",
    "\n",
    "12. En la columna 'FATAL (Y/N)', recategorizamos los valores singulares.\n",
    "\n",
    "13. Generamos la edad media por país y agregamos la columna al dataframe.\n",
    "\n",
    "14. Renombramos las columnas.\n",
    "\n",
    "15. Reordenamos las columnas (para juntar 'Age' y 'Avg age').\n",
    "\n",
    "16. Exportamos el dataset limpio como un archivo csv."
   ]
  },
  {
   "cell_type": "code",
   "execution_count": 1,
   "metadata": {},
   "outputs": [],
   "source": [
    "import pandas as pd\n",
    "import numpy as np\n",
    "from collections import Counter"
   ]
  },
  {
   "cell_type": "markdown",
   "metadata": {},
   "source": [
    "### 1. Importamos el archivo y hacemos una primera inspección del dataframe:"
   ]
  },
  {
   "cell_type": "code",
   "execution_count": 2,
   "metadata": {},
   "outputs": [
    {
     "name": "stdout",
     "output_type": "stream",
     "text": [
      "<class 'pandas.core.frame.DataFrame'>\n",
      "RangeIndex: 5992 entries, 0 to 5991\n",
      "Data columns (total 24 columns):\n",
      "Case Number               5992 non-null object\n",
      "Date                      5992 non-null object\n",
      "Year                      5992 non-null int64\n",
      "Type                      5992 non-null object\n",
      "Country                   5949 non-null object\n",
      "Area                      5590 non-null object\n",
      "Location                  5496 non-null object\n",
      "Activity                  5465 non-null object\n",
      "Name                      5792 non-null object\n",
      "Sex                       5425 non-null object\n",
      "Age                       3311 non-null object\n",
      "Injury                    5965 non-null object\n",
      "Fatal (Y/N)               5973 non-null object\n",
      "Time                      2779 non-null object\n",
      "Species                   3058 non-null object\n",
      "Investigator or Source    5977 non-null object\n",
      "pdf                       5992 non-null object\n",
      "href formula              5991 non-null object\n",
      "href                      5989 non-null object\n",
      "Case Number.1             5992 non-null object\n",
      "Case Number.2             5992 non-null object\n",
      "original order            5992 non-null int64\n",
      "Unnamed: 22               1 non-null object\n",
      "Unnamed: 23               2 non-null object\n",
      "dtypes: int64(2), object(22)\n",
      "memory usage: 1.1+ MB\n"
     ]
    }
   ],
   "source": [
    "data = pd.read_csv('GSAF5.csv', engine = 'python')\n",
    "data.info()"
   ]
  },
  {
   "cell_type": "code",
   "execution_count": 3,
   "metadata": {
    "scrolled": true
   },
   "outputs": [
    {
     "data": {
      "text/html": [
       "<div>\n",
       "<style scoped>\n",
       "    .dataframe tbody tr th:only-of-type {\n",
       "        vertical-align: middle;\n",
       "    }\n",
       "\n",
       "    .dataframe tbody tr th {\n",
       "        vertical-align: top;\n",
       "    }\n",
       "\n",
       "    .dataframe thead th {\n",
       "        text-align: right;\n",
       "    }\n",
       "</style>\n",
       "<table border=\"1\" class=\"dataframe\">\n",
       "  <thead>\n",
       "    <tr style=\"text-align: right;\">\n",
       "      <th></th>\n",
       "      <th>Case Number</th>\n",
       "      <th>Date</th>\n",
       "      <th>Year</th>\n",
       "      <th>Type</th>\n",
       "      <th>Country</th>\n",
       "      <th>Area</th>\n",
       "      <th>Location</th>\n",
       "      <th>Activity</th>\n",
       "      <th>Name</th>\n",
       "      <th>Sex</th>\n",
       "      <th>...</th>\n",
       "      <th>Species</th>\n",
       "      <th>Investigator or Source</th>\n",
       "      <th>pdf</th>\n",
       "      <th>href formula</th>\n",
       "      <th>href</th>\n",
       "      <th>Case Number.1</th>\n",
       "      <th>Case Number.2</th>\n",
       "      <th>original order</th>\n",
       "      <th>Unnamed: 22</th>\n",
       "      <th>Unnamed: 23</th>\n",
       "    </tr>\n",
       "  </thead>\n",
       "  <tbody>\n",
       "    <tr>\n",
       "      <td>0</td>\n",
       "      <td>2016.09.18.c</td>\n",
       "      <td>18-Sep-16</td>\n",
       "      <td>2016</td>\n",
       "      <td>Unprovoked</td>\n",
       "      <td>USA</td>\n",
       "      <td>Florida</td>\n",
       "      <td>New Smyrna Beach, Volusia County</td>\n",
       "      <td>Surfing</td>\n",
       "      <td>male</td>\n",
       "      <td>M</td>\n",
       "      <td>...</td>\n",
       "      <td>NaN</td>\n",
       "      <td>Orlando Sentinel, 9/19/2016</td>\n",
       "      <td>2016.09.18.c-NSB.pdf</td>\n",
       "      <td>http://sharkattackfile.net/spreadsheets/pdf_di...</td>\n",
       "      <td>http://sharkattackfile.net/spreadsheets/pdf_di...</td>\n",
       "      <td>2016.09.18.c</td>\n",
       "      <td>2016.09.18.c</td>\n",
       "      <td>5993</td>\n",
       "      <td>NaN</td>\n",
       "      <td>NaN</td>\n",
       "    </tr>\n",
       "  </tbody>\n",
       "</table>\n",
       "<p>1 rows × 24 columns</p>\n",
       "</div>"
      ],
      "text/plain": [
       "    Case Number       Date  Year        Type Country     Area  \\\n",
       "0  2016.09.18.c  18-Sep-16  2016  Unprovoked     USA  Florida   \n",
       "\n",
       "                           Location Activity  Name Sex   ... Species   \\\n",
       "0  New Smyrna Beach, Volusia County  Surfing  male    M  ...      NaN   \n",
       "\n",
       "        Investigator or Source                   pdf  \\\n",
       "0  Orlando Sentinel, 9/19/2016  2016.09.18.c-NSB.pdf   \n",
       "\n",
       "                                        href formula  \\\n",
       "0  http://sharkattackfile.net/spreadsheets/pdf_di...   \n",
       "\n",
       "                                                href Case Number.1  \\\n",
       "0  http://sharkattackfile.net/spreadsheets/pdf_di...  2016.09.18.c   \n",
       "\n",
       "  Case Number.2 original order Unnamed: 22 Unnamed: 23  \n",
       "0  2016.09.18.c           5993         NaN         NaN  \n",
       "\n",
       "[1 rows x 24 columns]"
      ]
     },
     "execution_count": 3,
     "metadata": {},
     "output_type": "execute_result"
    }
   ],
   "source": [
    "data.head(1)"
   ]
  },
  {
   "cell_type": "markdown",
   "metadata": {},
   "source": [
    "### 2. Inspeccionamos los valores nulos de cada columna:"
   ]
  },
  {
   "cell_type": "code",
   "execution_count": 4,
   "metadata": {},
   "outputs": [
    {
     "data": {
      "text/plain": [
       "Country                     43\n",
       "Area                       402\n",
       "Location                   496\n",
       "Activity                   527\n",
       "Name                       200\n",
       "Sex                        567\n",
       "Age                       2681\n",
       "Injury                      27\n",
       "Fatal (Y/N)                 19\n",
       "Time                      3213\n",
       "Species                   2934\n",
       "Investigator or Source      15\n",
       "href formula                 1\n",
       "href                         3\n",
       "Unnamed: 22               5991\n",
       "Unnamed: 23               5990\n",
       "dtype: int64"
      ]
     },
     "execution_count": 4,
     "metadata": {},
     "output_type": "execute_result"
    }
   ],
   "source": [
    "null_cols = data.isnull().sum()\n",
    "null_cols [null_cols > 0]"
   ]
  },
  {
   "cell_type": "markdown",
   "metadata": {},
   "source": [
    "### 3. Definimos drop_cols como las columnas con más de 3.000 registros nulos y eliminamos las columnas en drop_cols:"
   ]
  },
  {
   "cell_type": "code",
   "execution_count": 5,
   "metadata": {},
   "outputs": [
    {
     "data": {
      "text/plain": [
       "['Time', 'Unnamed: 22', 'Unnamed: 23']"
      ]
     },
     "execution_count": 5,
     "metadata": {},
     "output_type": "execute_result"
    }
   ],
   "source": [
    "drop_cols = list(null_cols[null_cols > 3000].index)\n",
    "drop_cols"
   ]
  },
  {
   "cell_type": "code",
   "execution_count": 6,
   "metadata": {
    "scrolled": true
   },
   "outputs": [
    {
     "data": {
      "text/plain": [
       "Index(['Case Number', 'Date', 'Year', 'Type', 'Country', 'Area', 'Location',\n",
       "       'Activity', 'Name', 'Sex ', 'Age', 'Injury', 'Fatal (Y/N)', 'Species ',\n",
       "       'Investigator or Source', 'pdf', 'href formula', 'href',\n",
       "       'Case Number.1', 'Case Number.2', 'original order'],\n",
       "      dtype='object')"
      ]
     },
     "execution_count": 6,
     "metadata": {},
     "output_type": "execute_result"
    }
   ],
   "source": [
    "data1 = data.drop(drop_cols, axis=1)\n",
    "data1.columns"
   ]
  },
  {
   "cell_type": "markdown",
   "metadata": {},
   "source": [
    "### 4. Eliminamos columnas con información poco relevante o duplicada:"
   ]
  },
  {
   "cell_type": "code",
   "execution_count": 7,
   "metadata": {},
   "outputs": [],
   "source": [
    "data1 = data1.drop(['Date','Name', 'Species ', 'pdf', 'href','Case Number.1',\n",
    "                    'Case Number.2', 'original order'], axis=1)"
   ]
  },
  {
   "cell_type": "code",
   "execution_count": 8,
   "metadata": {
    "scrolled": true
   },
   "outputs": [
    {
     "name": "stdout",
     "output_type": "stream",
     "text": [
      "<class 'pandas.core.frame.DataFrame'>\n",
      "RangeIndex: 5992 entries, 0 to 5991\n",
      "Data columns (total 13 columns):\n",
      "Case Number               5992 non-null object\n",
      "Year                      5992 non-null int64\n",
      "Type                      5992 non-null object\n",
      "Country                   5949 non-null object\n",
      "Area                      5590 non-null object\n",
      "Location                  5496 non-null object\n",
      "Activity                  5465 non-null object\n",
      "Sex                       5425 non-null object\n",
      "Age                       3311 non-null object\n",
      "Injury                    5965 non-null object\n",
      "Fatal (Y/N)               5973 non-null object\n",
      "Investigator or Source    5977 non-null object\n",
      "href formula              5991 non-null object\n",
      "dtypes: int64(1), object(12)\n",
      "memory usage: 608.7+ KB\n"
     ]
    }
   ],
   "source": [
    "data1.info()"
   ]
  },
  {
   "cell_type": "markdown",
   "metadata": {},
   "source": [
    "### 5. Limpiamos la columna Case Number:"
   ]
  },
  {
   "cell_type": "code",
   "execution_count": 9,
   "metadata": {},
   "outputs": [],
   "source": [
    "data1['Case Number'].replace(regex = True, inplace = True, \n",
    "                             to_replace = r'[A-Za-z]', value ='')\n",
    "\n",
    "data1['Case Number'] = data1['Case Number'].str.replace(r'[.]$', '')"
   ]
  },
  {
   "cell_type": "code",
   "execution_count": 10,
   "metadata": {},
   "outputs": [
    {
     "data": {
      "text/html": [
       "<div>\n",
       "<style scoped>\n",
       "    .dataframe tbody tr th:only-of-type {\n",
       "        vertical-align: middle;\n",
       "    }\n",
       "\n",
       "    .dataframe tbody tr th {\n",
       "        vertical-align: top;\n",
       "    }\n",
       "\n",
       "    .dataframe thead th {\n",
       "        text-align: right;\n",
       "    }\n",
       "</style>\n",
       "<table border=\"1\" class=\"dataframe\">\n",
       "  <thead>\n",
       "    <tr style=\"text-align: right;\">\n",
       "      <th></th>\n",
       "      <th>Case Number</th>\n",
       "      <th>Year</th>\n",
       "      <th>Type</th>\n",
       "      <th>Country</th>\n",
       "      <th>Area</th>\n",
       "      <th>Location</th>\n",
       "      <th>Activity</th>\n",
       "      <th>Sex</th>\n",
       "      <th>Age</th>\n",
       "      <th>Injury</th>\n",
       "      <th>Fatal (Y/N)</th>\n",
       "      <th>Investigator or Source</th>\n",
       "      <th>href formula</th>\n",
       "    </tr>\n",
       "  </thead>\n",
       "  <tbody>\n",
       "    <tr>\n",
       "      <td>0</td>\n",
       "      <td>2016.09.18</td>\n",
       "      <td>2016</td>\n",
       "      <td>Unprovoked</td>\n",
       "      <td>USA</td>\n",
       "      <td>Florida</td>\n",
       "      <td>New Smyrna Beach, Volusia County</td>\n",
       "      <td>Surfing</td>\n",
       "      <td>M</td>\n",
       "      <td>16</td>\n",
       "      <td>Minor injury to thigh</td>\n",
       "      <td>N</td>\n",
       "      <td>Orlando Sentinel, 9/19/2016</td>\n",
       "      <td>http://sharkattackfile.net/spreadsheets/pdf_di...</td>\n",
       "    </tr>\n",
       "    <tr>\n",
       "      <td>1</td>\n",
       "      <td>2016.09.18</td>\n",
       "      <td>2016</td>\n",
       "      <td>Unprovoked</td>\n",
       "      <td>USA</td>\n",
       "      <td>Florida</td>\n",
       "      <td>New Smyrna Beach, Volusia County</td>\n",
       "      <td>Surfing</td>\n",
       "      <td>M</td>\n",
       "      <td>36</td>\n",
       "      <td>Lacerations to hands</td>\n",
       "      <td>N</td>\n",
       "      <td>Orlando Sentinel, 9/19/2016</td>\n",
       "      <td>http://sharkattackfile.net/spreadsheets/pdf_di...</td>\n",
       "    </tr>\n",
       "  </tbody>\n",
       "</table>\n",
       "</div>"
      ],
      "text/plain": [
       "  Case Number  Year        Type Country     Area  \\\n",
       "0  2016.09.18  2016  Unprovoked     USA  Florida   \n",
       "1  2016.09.18  2016  Unprovoked     USA  Florida   \n",
       "\n",
       "                           Location Activity Sex  Age                 Injury  \\\n",
       "0  New Smyrna Beach, Volusia County  Surfing    M  16  Minor injury to thigh   \n",
       "1  New Smyrna Beach, Volusia County  Surfing    M  36   Lacerations to hands   \n",
       "\n",
       "  Fatal (Y/N)       Investigator or Source  \\\n",
       "0           N  Orlando Sentinel, 9/19/2016   \n",
       "1           N  Orlando Sentinel, 9/19/2016   \n",
       "\n",
       "                                        href formula  \n",
       "0  http://sharkattackfile.net/spreadsheets/pdf_di...  \n",
       "1  http://sharkattackfile.net/spreadsheets/pdf_di...  "
      ]
     },
     "execution_count": 10,
     "metadata": {},
     "output_type": "execute_result"
    }
   ],
   "source": [
    "data1.head(2)"
   ]
  },
  {
   "cell_type": "markdown",
   "metadata": {},
   "source": [
    "### 6. Visualizamos la distribución de los incidentes por años y eliminamos los registros con valores inferiores a 1890 para 'Year':"
   ]
  },
  {
   "cell_type": "code",
   "execution_count": 11,
   "metadata": {},
   "outputs": [
    {
     "data": {
      "text/plain": [
       "Counter({2016: 103,\n",
       "         2015: 139,\n",
       "         2014: 125,\n",
       "         2013: 122,\n",
       "         2012: 117,\n",
       "         2011: 128,\n",
       "         2010: 101,\n",
       "         2009: 120,\n",
       "         2008: 121,\n",
       "         2007: 112,\n",
       "         2006: 103,\n",
       "         2005: 103,\n",
       "         2004: 92,\n",
       "         2003: 92,\n",
       "         2002: 88,\n",
       "         2001: 92,\n",
       "         2000: 97,\n",
       "         1999: 65,\n",
       "         1998: 65,\n",
       "         1997: 57,\n",
       "         1996: 61,\n",
       "         1995: 76,\n",
       "         1984: 41,\n",
       "         1994: 56,\n",
       "         1993: 56,\n",
       "         1992: 56,\n",
       "         1991: 38,\n",
       "         1990: 38,\n",
       "         1989: 53,\n",
       "         1969: 30,\n",
       "         1988: 55,\n",
       "         1987: 35,\n",
       "         1986: 39,\n",
       "         1985: 37,\n",
       "         1983: 50,\n",
       "         1982: 40,\n",
       "         1981: 49,\n",
       "         1980: 35,\n",
       "         1979: 25,\n",
       "         1978: 25,\n",
       "         1977: 26,\n",
       "         1976: 39,\n",
       "         1975: 49,\n",
       "         1974: 38,\n",
       "         1973: 27,\n",
       "         1972: 35,\n",
       "         1971: 28,\n",
       "         1970: 42,\n",
       "         1968: 46,\n",
       "         1967: 48,\n",
       "         1966: 58,\n",
       "         1965: 51,\n",
       "         1964: 66,\n",
       "         1963: 61,\n",
       "         1962: 86,\n",
       "         1961: 78,\n",
       "         1960: 93,\n",
       "         1959: 93,\n",
       "         1958: 54,\n",
       "         1957: 41,\n",
       "         1956: 51,\n",
       "         1955: 43,\n",
       "         1954: 42,\n",
       "         1953: 36,\n",
       "         1952: 29,\n",
       "         1951: 31,\n",
       "         1950: 43,\n",
       "         1949: 31,\n",
       "         1948: 29,\n",
       "         1848: 3,\n",
       "         1947: 30,\n",
       "         1946: 26,\n",
       "         1945: 16,\n",
       "         1944: 31,\n",
       "         1943: 28,\n",
       "         1942: 41,\n",
       "         1941: 27,\n",
       "         1940: 24,\n",
       "         1939: 24,\n",
       "         1938: 24,\n",
       "         1937: 30,\n",
       "         1936: 30,\n",
       "         1935: 32,\n",
       "         1934: 27,\n",
       "         1933: 22,\n",
       "         1932: 27,\n",
       "         1931: 29,\n",
       "         1930: 26,\n",
       "         1929: 37,\n",
       "         1928: 26,\n",
       "         1927: 19,\n",
       "         1926: 21,\n",
       "         1925: 14,\n",
       "         1924: 19,\n",
       "         1923: 21,\n",
       "         1922: 22,\n",
       "         1921: 11,\n",
       "         1920: 15,\n",
       "         1919: 14,\n",
       "         1918: 5,\n",
       "         1917: 11,\n",
       "         1916: 25,\n",
       "         1915: 12,\n",
       "         1914: 17,\n",
       "         1913: 16,\n",
       "         1912: 13,\n",
       "         1911: 16,\n",
       "         1910: 14,\n",
       "         1909: 18,\n",
       "         1908: 13,\n",
       "         1907: 23,\n",
       "         1906: 21,\n",
       "         1905: 16,\n",
       "         1904: 13,\n",
       "         1903: 10,\n",
       "         1902: 15,\n",
       "         1901: 9,\n",
       "         1900: 13,\n",
       "         1899: 19,\n",
       "         1898: 19,\n",
       "         1897: 11,\n",
       "         1896: 11,\n",
       "         1895: 20,\n",
       "         1894: 15,\n",
       "         1893: 13,\n",
       "         1892: 11,\n",
       "         1891: 8,\n",
       "         1890: 16,\n",
       "         1889: 9,\n",
       "         1888: 15,\n",
       "         1887: 12,\n",
       "         1886: 15,\n",
       "         1885: 9,\n",
       "         1884: 6,\n",
       "         1883: 10,\n",
       "         1882: 11,\n",
       "         1881: 9,\n",
       "         1880: 15,\n",
       "         1879: 8,\n",
       "         1878: 12,\n",
       "         1877: 14,\n",
       "         1876: 8,\n",
       "         1875: 5,\n",
       "         1874: 10,\n",
       "         1873: 4,\n",
       "         1872: 7,\n",
       "         1871: 8,\n",
       "         1870: 8,\n",
       "         1869: 2,\n",
       "         1868: 6,\n",
       "         1867: 4,\n",
       "         1866: 1,\n",
       "         1865: 4,\n",
       "         1864: 8,\n",
       "         1863: 7,\n",
       "         1862: 12,\n",
       "         1861: 5,\n",
       "         1860: 6,\n",
       "         1859: 1,\n",
       "         1858: 4,\n",
       "         1856: 4,\n",
       "         1855: 7,\n",
       "         1854: 1,\n",
       "         1853: 7,\n",
       "         1852: 10,\n",
       "         1851: 3,\n",
       "         1850: 1,\n",
       "         1849: 6,\n",
       "         1847: 6,\n",
       "         1846: 1,\n",
       "         1845: 4,\n",
       "         1844: 4,\n",
       "         1842: 3,\n",
       "         1841: 1,\n",
       "         1840: 4,\n",
       "         1839: 4,\n",
       "         1837: 3,\n",
       "         1836: 2,\n",
       "         1835: 2,\n",
       "         1834: 1,\n",
       "         1832: 2,\n",
       "         1831: 1,\n",
       "         1830: 3,\n",
       "         1829: 2,\n",
       "         1828: 2,\n",
       "         1827: 4,\n",
       "         1826: 3,\n",
       "         1825: 2,\n",
       "         1822: 1,\n",
       "         1819: 1,\n",
       "         1818: 1,\n",
       "         1817: 4,\n",
       "         1816: 1,\n",
       "         1812: 1,\n",
       "         1811: 1,\n",
       "         1807: 1,\n",
       "         1805: 1,\n",
       "         1804: 1,\n",
       "         1803: 1,\n",
       "         1800: 1,\n",
       "         1791: 1,\n",
       "         1788: 1,\n",
       "         1787: 1,\n",
       "         1785: 1,\n",
       "         1779: 1,\n",
       "         1776: 2,\n",
       "         1771: 1,\n",
       "         1767: 1,\n",
       "         1764: 1,\n",
       "         1758: 1,\n",
       "         1749: 1,\n",
       "         1755: 1,\n",
       "         1748: 1,\n",
       "         1742: 1,\n",
       "         1738: 1,\n",
       "         1733: 1,\n",
       "         1721: 1,\n",
       "         1703: 1,\n",
       "         1700: 3,\n",
       "         1642: 2,\n",
       "         1638: 1,\n",
       "         1637: 1,\n",
       "         1617: 1,\n",
       "         1595: 1,\n",
       "         1580: 1,\n",
       "         1555: 1,\n",
       "         1554: 1,\n",
       "         1543: 1,\n",
       "         500: 1,\n",
       "         77: 1,\n",
       "         5: 1,\n",
       "         0: 124})"
      ]
     },
     "execution_count": 11,
     "metadata": {},
     "output_type": "execute_result"
    }
   ],
   "source": [
    "Counter(data1['Year'])"
   ]
  },
  {
   "cell_type": "code",
   "execution_count": 12,
   "metadata": {},
   "outputs": [],
   "source": [
    "data1 = data1[data1.Year >= 1890]"
   ]
  },
  {
   "cell_type": "code",
   "execution_count": 13,
   "metadata": {
    "scrolled": false
   },
   "outputs": [
    {
     "name": "stdout",
     "output_type": "stream",
     "text": [
      "<class 'pandas.core.frame.DataFrame'>\n",
      "Int64Index: 5467 entries, 0 to 5467\n",
      "Data columns (total 13 columns):\n",
      "Case Number               5467 non-null object\n",
      "Year                      5467 non-null int64\n",
      "Type                      5467 non-null object\n",
      "Country                   5441 non-null object\n",
      "Area                      5152 non-null object\n",
      "Location                  5078 non-null object\n",
      "Activity                  5033 non-null object\n",
      "Sex                       4948 non-null object\n",
      "Age                       3243 non-null object\n",
      "Injury                    5448 non-null object\n",
      "Fatal (Y/N)               5457 non-null object\n",
      "Investigator or Source    5454 non-null object\n",
      "href formula              5466 non-null object\n",
      "dtypes: int64(1), object(12)\n",
      "memory usage: 598.0+ KB\n"
     ]
    }
   ],
   "source": [
    "data1.info()"
   ]
  },
  {
   "cell_type": "markdown",
   "metadata": {},
   "source": [
    "### 7. Observamos los valores de la columna 'Type' y unificamos las categorías Boat y Boating:"
   ]
  },
  {
   "cell_type": "code",
   "execution_count": 14,
   "metadata": {},
   "outputs": [
    {
     "data": {
      "text/plain": [
       "Unprovoked      3993\n",
       "Provoked         536\n",
       "Invalid          464\n",
       "Boat             194\n",
       "Sea Disaster     187\n",
       "Boating           93\n",
       "Name: Type, dtype: int64"
      ]
     },
     "execution_count": 14,
     "metadata": {},
     "output_type": "execute_result"
    }
   ],
   "source": [
    "data1['Type'].value_counts()"
   ]
  },
  {
   "cell_type": "code",
   "execution_count": 15,
   "metadata": {},
   "outputs": [],
   "source": [
    "data1['Type'] = data['Type'].str.replace('Boating', 'Boat')"
   ]
  },
  {
   "cell_type": "code",
   "execution_count": 16,
   "metadata": {
    "scrolled": true
   },
   "outputs": [
    {
     "data": {
      "text/plain": [
       "Unprovoked      3993\n",
       "Provoked         536\n",
       "Invalid          464\n",
       "Boat             287\n",
       "Sea Disaster     187\n",
       "Name: Type, dtype: int64"
      ]
     },
     "execution_count": 16,
     "metadata": {},
     "output_type": "execute_result"
    }
   ],
   "source": [
    "data1['Type'].value_counts()"
   ]
  },
  {
   "cell_type": "markdown",
   "metadata": {},
   "source": [
    "### 8. Aplicamos mayúsculas a los valores del atributo 'Country' y eliminamos los espacios a principio y final del string:"
   ]
  },
  {
   "cell_type": "code",
   "execution_count": 17,
   "metadata": {},
   "outputs": [],
   "source": [
    "data1['Country'] = data1['Country'].str.upper()"
   ]
  },
  {
   "cell_type": "code",
   "execution_count": 18,
   "metadata": {},
   "outputs": [],
   "source": [
    "data1['Country'] = data1['Country'].str.lstrip()\n",
    "data1['Country'] = data1['Country'].str.rstrip()"
   ]
  },
  {
   "cell_type": "markdown",
   "metadata": {},
   "source": [
    "### 9. Eliminamos los espacios a principio y final del string de las columnas 'Area' y 'Location':"
   ]
  },
  {
   "cell_type": "code",
   "execution_count": 19,
   "metadata": {},
   "outputs": [],
   "source": [
    "data1['Area'] = data1['Area'].str.lstrip()\n",
    "data1['Area'] = data1['Area'].str.rstrip()"
   ]
  },
  {
   "cell_type": "code",
   "execution_count": 20,
   "metadata": {},
   "outputs": [],
   "source": [
    "data1['Location'] = data1['Location'].str.lstrip()\n",
    "data1['Location'] = data1['Location'].str.rstrip()"
   ]
  },
  {
   "cell_type": "markdown",
   "metadata": {},
   "source": [
    "### 10. En la columna 'Sex', recategorizamos los valores singulares:"
   ]
  },
  {
   "cell_type": "code",
   "execution_count": 21,
   "metadata": {},
   "outputs": [
    {
     "data": {
      "text/plain": [
       "Counter({'M': 4387, nan: 519, 'F': 556, 'M ': 2, 'lli': 1, 'N': 1, '.': 1})"
      ]
     },
     "execution_count": 21,
     "metadata": {},
     "output_type": "execute_result"
    }
   ],
   "source": [
    "Counter(data1['Sex '])"
   ]
  },
  {
   "cell_type": "code",
   "execution_count": 22,
   "metadata": {},
   "outputs": [],
   "source": [
    "data1['Sex '] = data1['Sex '].str.rstrip()\n",
    "data1['Sex '] = data1['Sex '].replace('lli', None)\n",
    "data1['Sex '] = data1['Sex '].replace('N', None)\n",
    "data1['Sex '] = data1['Sex '].replace('.', None)"
   ]
  },
  {
   "cell_type": "code",
   "execution_count": 23,
   "metadata": {},
   "outputs": [
    {
     "data": {
      "text/plain": [
       "Counter({'M': 4391, nan: 519, 'F': 557})"
      ]
     },
     "execution_count": 23,
     "metadata": {},
     "output_type": "execute_result"
    }
   ],
   "source": [
    "Counter(data1['Sex '])"
   ]
  },
  {
   "cell_type": "markdown",
   "metadata": {},
   "source": [
    "### 11. En la columna 'Age', seleccionamos los dos primeros digítos de cada campo y descartamos el resto (se generan algunos errores como en el caso de registros con múltiples edades o registros con meses en lugar de años). Después, convertimos el atributo a numérico."
   ]
  },
  {
   "cell_type": "code",
   "execution_count": 24,
   "metadata": {},
   "outputs": [
    {
     "data": {
      "text/plain": [
       "Counter({'16': 132,\n",
       "         '36': 40,\n",
       "         '43': 43,\n",
       "         nan: 2224,\n",
       "         '60s': 1,\n",
       "         '51': 19,\n",
       "         '50': 31,\n",
       "         '12': 68,\n",
       "         '9': 35,\n",
       "         '22': 110,\n",
       "         '25': 100,\n",
       "         '37': 36,\n",
       "         '20': 133,\n",
       "         '49': 27,\n",
       "         '15': 131,\n",
       "         '21': 112,\n",
       "         '40': 47,\n",
       "         '72': 1,\n",
       "         '18': 140,\n",
       "         '29': 74,\n",
       "         '31': 50,\n",
       "         '11': 31,\n",
       "         '10': 51,\n",
       "         '59': 11,\n",
       "         '42': 36,\n",
       "         '34': 45,\n",
       "         '35': 63,\n",
       "         '19': 134,\n",
       "         '6': 13,\n",
       "         '27': 76,\n",
       "         '64': 4,\n",
       "         '60': 13,\n",
       "         '23': 78,\n",
       "         '52': 33,\n",
       "         '13': 87,\n",
       "         '57': 14,\n",
       "         '48': 25,\n",
       "         '39': 36,\n",
       "         '24': 103,\n",
       "         '26': 79,\n",
       "         '69': 8,\n",
       "         '46': 25,\n",
       "         'Teen': 8,\n",
       "         '41': 34,\n",
       "         '45': 32,\n",
       "         '65': 4,\n",
       "         '38': 47,\n",
       "         '71': 3,\n",
       "         '32': 64,\n",
       "         '58': 12,\n",
       "         '28': 76,\n",
       "         '54': 14,\n",
       "         '44': 29,\n",
       "         '14': 95,\n",
       "         '7': 21,\n",
       "         '62': 8,\n",
       "         '40s': 2,\n",
       "         '68': 6,\n",
       "         '47': 28,\n",
       "         '17': 143,\n",
       "         '30': 73,\n",
       "         '63': 9,\n",
       "         '70': 6,\n",
       "         '18 months': 1,\n",
       "         '53': 13,\n",
       "         '20s': 6,\n",
       "         '33': 39,\n",
       "         '30s': 7,\n",
       "         '50s': 2,\n",
       "         '8': 27,\n",
       "         '61': 11,\n",
       "         '55': 20,\n",
       "         'teen': 5,\n",
       "         '66': 3,\n",
       "         '77': 3,\n",
       "         '74': 2,\n",
       "         '3': 3,\n",
       "         '56': 9,\n",
       "         '28 & 26': 1,\n",
       "         '5': 7,\n",
       "         '86': 1,\n",
       "         '18 or 20': 1,\n",
       "         '12 or 13': 1,\n",
       "         '46 & 34': 1,\n",
       "         '28, 23 & 30': 1,\n",
       "         'Teens': 1,\n",
       "         '36 & 26': 1,\n",
       "         '8 or 10': 2,\n",
       "         '84': 1,\n",
       "         '� ': 1,\n",
       "         ' ': 2,\n",
       "         '30 or 36': 1,\n",
       "         '6�': 1,\n",
       "         '21 & ?': 1,\n",
       "         '75': 2,\n",
       "         '33 or 37': 1,\n",
       "         'mid-30s': 1,\n",
       "         '73': 1,\n",
       "         '23 & 20': 1,\n",
       "         '7      &    31': 1,\n",
       "         '20?': 1,\n",
       "         \"60's\": 1,\n",
       "         '32 & 30': 1,\n",
       "         '16 to 18': 1,\n",
       "         '87': 1,\n",
       "         '67': 1,\n",
       "         'Elderly': 1,\n",
       "         'mid-20s': 1,\n",
       "         'Ca. 33': 1,\n",
       "         '21 or 26': 1,\n",
       "         '>50': 1,\n",
       "         '18 to 22': 1,\n",
       "         'adult': 1,\n",
       "         '9 & 12': 1,\n",
       "         '? & 19': 1,\n",
       "         '9 months': 1,\n",
       "         '25 to 35': 1,\n",
       "         '23 & 26': 1,\n",
       "         '1': 1,\n",
       "         '(adult)': 1,\n",
       "         '33 & 37': 1,\n",
       "         '25 or 28': 1,\n",
       "         '37, 67, 35, 27,  ? & 27': 1,\n",
       "         '21, 34,24 & 35': 1,\n",
       "         '30 & 32': 1,\n",
       "         '50 & 30': 1,\n",
       "         '17 & 35': 1,\n",
       "         'X': 1,\n",
       "         '\"middle-age\"': 1,\n",
       "         '13 or 18': 1,\n",
       "         '34 & 19': 1,\n",
       "         '33 & 26': 1,\n",
       "         '2 to 3 months': 1,\n",
       "         'MAKE LINE GREEN': 1,\n",
       "         '81': 1,\n",
       "         '\"young\"': 1,\n",
       "         '7 or 8': 1,\n",
       "         '78': 2,\n",
       "         '17 & 16': 1,\n",
       "         'F': 2,\n",
       "         'Both 11': 1,\n",
       "         '9 or 10': 1,\n",
       "         'young': 1,\n",
       "         '36 & 23': 1,\n",
       "         '  ': 1,\n",
       "         'A.M.': 1,\n",
       "         '?    &   14': 1,\n",
       "         '10 or 12': 1,\n",
       "         '31 or 33': 1,\n",
       "         'M': 1})"
      ]
     },
     "execution_count": 24,
     "metadata": {},
     "output_type": "execute_result"
    }
   ],
   "source": [
    "Counter(data1['Age'])"
   ]
  },
  {
   "cell_type": "code",
   "execution_count": 25,
   "metadata": {},
   "outputs": [],
   "source": [
    "data1['Age'] = data1['Age'].str.extract(r'^(\\d{2})', expand = False)"
   ]
  },
  {
   "cell_type": "code",
   "execution_count": 26,
   "metadata": {},
   "outputs": [
    {
     "data": {
      "text/plain": [
       "17    145\n",
       "18    143\n",
       "20    140\n",
       "19    134\n",
       "16    133\n",
       "     ... \n",
       "81      1\n",
       "86      1\n",
       "73      1\n",
       "72      1\n",
       "67      1\n",
       "Name: Age, Length: 72, dtype: int64"
      ]
     },
     "execution_count": 26,
     "metadata": {},
     "output_type": "execute_result"
    }
   ],
   "source": [
    "data1['Age'].value_counts()"
   ]
  },
  {
   "cell_type": "code",
   "execution_count": 27,
   "metadata": {},
   "outputs": [],
   "source": [
    "data1[\"Age\"] = pd.to_numeric(data1[\"Age\"])"
   ]
  },
  {
   "cell_type": "code",
   "execution_count": 28,
   "metadata": {
    "scrolled": true
   },
   "outputs": [
    {
     "data": {
      "text/plain": [
       "27.941747572815533"
      ]
     },
     "execution_count": 28,
     "metadata": {},
     "output_type": "execute_result"
    }
   ],
   "source": [
    "data1[\"Age\"].mean()"
   ]
  },
  {
   "cell_type": "markdown",
   "metadata": {},
   "source": [
    "### 12. En la columna 'FATAL (Y/N)', recategorizamos los valores singulares:"
   ]
  },
  {
   "cell_type": "code",
   "execution_count": 29,
   "metadata": {},
   "outputs": [
    {
     "data": {
      "text/plain": [
       "Counter({'N': 4085,\n",
       "         'Y': 1278,\n",
       "         nan: 10,\n",
       "         'UNKNOWN': 83,\n",
       "         ' N': 8,\n",
       "         'F': 1,\n",
       "         'N ': 1,\n",
       "         '#VALUE!': 1})"
      ]
     },
     "execution_count": 29,
     "metadata": {},
     "output_type": "execute_result"
    }
   ],
   "source": [
    "Counter(data1['Fatal (Y/N)'])"
   ]
  },
  {
   "cell_type": "code",
   "execution_count": 30,
   "metadata": {},
   "outputs": [],
   "source": [
    "data1['Fatal (Y/N)'] = data1['Fatal (Y/N)'].replace('F', 'UNKNOWN')\n",
    "data1['Fatal (Y/N)'] = data1['Fatal (Y/N)'].replace('#VALUE!', 'UNKNOWN')\n",
    "data1['Fatal (Y/N)'] = data1['Fatal (Y/N)'].str.rstrip()\n",
    "data1['Fatal (Y/N)'] = data1['Fatal (Y/N)'].str.lstrip()"
   ]
  },
  {
   "cell_type": "code",
   "execution_count": 31,
   "metadata": {},
   "outputs": [
    {
     "data": {
      "text/plain": [
       "Counter({'N': 4094, 'Y': 1278, nan: 10, 'UNKNOWN': 85})"
      ]
     },
     "execution_count": 31,
     "metadata": {},
     "output_type": "execute_result"
    }
   ],
   "source": [
    "Counter(data1['Fatal (Y/N)'])"
   ]
  },
  {
   "cell_type": "code",
   "execution_count": 32,
   "metadata": {},
   "outputs": [
    {
     "name": "stdout",
     "output_type": "stream",
     "text": [
      "<class 'pandas.core.frame.DataFrame'>\n",
      "Int64Index: 5467 entries, 0 to 5467\n",
      "Data columns (total 13 columns):\n",
      "Case Number               5467 non-null object\n",
      "Year                      5467 non-null int64\n",
      "Type                      5467 non-null object\n",
      "Country                   5441 non-null object\n",
      "Area                      5152 non-null object\n",
      "Location                  5078 non-null object\n",
      "Activity                  5033 non-null object\n",
      "Sex                       4948 non-null object\n",
      "Age                       3090 non-null float64\n",
      "Injury                    5448 non-null object\n",
      "Fatal (Y/N)               5457 non-null object\n",
      "Investigator or Source    5454 non-null object\n",
      "href formula              5466 non-null object\n",
      "dtypes: float64(1), int64(1), object(11)\n",
      "memory usage: 598.0+ KB\n"
     ]
    }
   ],
   "source": [
    "data1.info()"
   ]
  },
  {
   "cell_type": "markdown",
   "metadata": {},
   "source": [
    "### 13. Generamos la edad media por país y agregamos la columna al dataframe:"
   ]
  },
  {
   "cell_type": "code",
   "execution_count": 33,
   "metadata": {},
   "outputs": [],
   "source": [
    "avg_age = data1.groupby('Country', as_index = False)['Age'].mean()"
   ]
  },
  {
   "cell_type": "code",
   "execution_count": 34,
   "metadata": {},
   "outputs": [
    {
     "data": {
      "text/html": [
       "<div>\n",
       "<style scoped>\n",
       "    .dataframe tbody tr th:only-of-type {\n",
       "        vertical-align: middle;\n",
       "    }\n",
       "\n",
       "    .dataframe tbody tr th {\n",
       "        vertical-align: top;\n",
       "    }\n",
       "\n",
       "    .dataframe thead th {\n",
       "        text-align: right;\n",
       "    }\n",
       "</style>\n",
       "<table border=\"1\" class=\"dataframe\">\n",
       "  <thead>\n",
       "    <tr style=\"text-align: right;\">\n",
       "      <th></th>\n",
       "      <th>Age</th>\n",
       "    </tr>\n",
       "    <tr>\n",
       "      <th>Country</th>\n",
       "      <th></th>\n",
       "    </tr>\n",
       "  </thead>\n",
       "  <tbody>\n",
       "    <tr>\n",
       "      <td>ADMIRALTY ISLANDS</td>\n",
       "      <td>26.000000</td>\n",
       "    </tr>\n",
       "    <tr>\n",
       "      <td>AMERICAN SAMOA</td>\n",
       "      <td>25.666667</td>\n",
       "    </tr>\n",
       "    <tr>\n",
       "      <td>ANDAMAN / NICOBAR ISLANDAS</td>\n",
       "      <td>32.000000</td>\n",
       "    </tr>\n",
       "    <tr>\n",
       "      <td>ARGENTINA</td>\n",
       "      <td>18.000000</td>\n",
       "    </tr>\n",
       "    <tr>\n",
       "      <td>ARUBA</td>\n",
       "      <td>58.000000</td>\n",
       "    </tr>\n",
       "    <tr>\n",
       "      <td>...</td>\n",
       "      <td>...</td>\n",
       "    </tr>\n",
       "    <tr>\n",
       "      <td>VANUATU</td>\n",
       "      <td>23.666667</td>\n",
       "    </tr>\n",
       "    <tr>\n",
       "      <td>VENEZUELA</td>\n",
       "      <td>37.000000</td>\n",
       "    </tr>\n",
       "    <tr>\n",
       "      <td>VIETNAM</td>\n",
       "      <td>42.166667</td>\n",
       "    </tr>\n",
       "    <tr>\n",
       "      <td>WESTERN SAMOA</td>\n",
       "      <td>25.000000</td>\n",
       "    </tr>\n",
       "    <tr>\n",
       "      <td>YEMEN</td>\n",
       "      <td>23.000000</td>\n",
       "    </tr>\n",
       "  </tbody>\n",
       "</table>\n",
       "<p>119 rows × 1 columns</p>\n",
       "</div>"
      ],
      "text/plain": [
       "                                  Age\n",
       "Country                              \n",
       "ADMIRALTY ISLANDS           26.000000\n",
       "AMERICAN SAMOA              25.666667\n",
       "ANDAMAN / NICOBAR ISLANDAS  32.000000\n",
       "ARGENTINA                   18.000000\n",
       "ARUBA                       58.000000\n",
       "...                               ...\n",
       "VANUATU                     23.666667\n",
       "VENEZUELA                   37.000000\n",
       "VIETNAM                     42.166667\n",
       "WESTERN SAMOA               25.000000\n",
       "YEMEN                       23.000000\n",
       "\n",
       "[119 rows x 1 columns]"
      ]
     },
     "execution_count": 34,
     "metadata": {},
     "output_type": "execute_result"
    }
   ],
   "source": [
    "data1.pivot_table(index='Country', values = 'Age', aggfunc = np.mean)"
   ]
  },
  {
   "cell_type": "code",
   "execution_count": 35,
   "metadata": {},
   "outputs": [
    {
     "data": {
      "text/html": [
       "<div>\n",
       "<style scoped>\n",
       "    .dataframe tbody tr th:only-of-type {\n",
       "        vertical-align: middle;\n",
       "    }\n",
       "\n",
       "    .dataframe tbody tr th {\n",
       "        vertical-align: top;\n",
       "    }\n",
       "\n",
       "    .dataframe thead th {\n",
       "        text-align: right;\n",
       "    }\n",
       "</style>\n",
       "<table border=\"1\" class=\"dataframe\">\n",
       "  <thead>\n",
       "    <tr style=\"text-align: right;\">\n",
       "      <th></th>\n",
       "      <th>Case Number</th>\n",
       "      <th>Year</th>\n",
       "      <th>Type</th>\n",
       "      <th>Country</th>\n",
       "      <th>Area</th>\n",
       "      <th>Location</th>\n",
       "      <th>Activity</th>\n",
       "      <th>Sex</th>\n",
       "      <th>Age_x</th>\n",
       "      <th>Injury</th>\n",
       "      <th>Fatal (Y/N)</th>\n",
       "      <th>Investigator or Source</th>\n",
       "      <th>href formula</th>\n",
       "      <th>Age_y</th>\n",
       "    </tr>\n",
       "  </thead>\n",
       "  <tbody>\n",
       "    <tr>\n",
       "      <td>0</td>\n",
       "      <td>2016.09.18</td>\n",
       "      <td>2016</td>\n",
       "      <td>Unprovoked</td>\n",
       "      <td>USA</td>\n",
       "      <td>Florida</td>\n",
       "      <td>New Smyrna Beach, Volusia County</td>\n",
       "      <td>Surfing</td>\n",
       "      <td>M</td>\n",
       "      <td>16.0</td>\n",
       "      <td>Minor injury to thigh</td>\n",
       "      <td>N</td>\n",
       "      <td>Orlando Sentinel, 9/19/2016</td>\n",
       "      <td>http://sharkattackfile.net/spreadsheets/pdf_di...</td>\n",
       "      <td>28.0</td>\n",
       "    </tr>\n",
       "  </tbody>\n",
       "</table>\n",
       "</div>"
      ],
      "text/plain": [
       "  Case Number  Year        Type Country     Area  \\\n",
       "0  2016.09.18  2016  Unprovoked     USA  Florida   \n",
       "\n",
       "                           Location Activity Sex   Age_x  \\\n",
       "0  New Smyrna Beach, Volusia County  Surfing    M   16.0   \n",
       "\n",
       "                  Injury Fatal (Y/N)       Investigator or Source  \\\n",
       "0  Minor injury to thigh           N  Orlando Sentinel, 9/19/2016   \n",
       "\n",
       "                                        href formula  Age_y  \n",
       "0  http://sharkattackfile.net/spreadsheets/pdf_di...   28.0  "
      ]
     },
     "execution_count": 35,
     "metadata": {},
     "output_type": "execute_result"
    }
   ],
   "source": [
    "data1 = pd.merge(data1, avg_age, on='Country')\n",
    "data1['Age_y'] = data1['Age_y'].round()\n",
    "data1.head(1)"
   ]
  },
  {
   "cell_type": "markdown",
   "metadata": {},
   "source": [
    "### 14. Renombramos las columnas:"
   ]
  },
  {
   "cell_type": "code",
   "execution_count": 36,
   "metadata": {},
   "outputs": [],
   "source": [
    "data1 = data1.rename(columns={'Case Number':'Date',\n",
    "                             'Sex ':'Sex',\n",
    "                             'Age_x':'Age',\n",
    "                             'Fatal (Y/N)': 'Fatal',\n",
    "                             'Age_y':'Avg age'})"
   ]
  },
  {
   "cell_type": "markdown",
   "metadata": {},
   "source": [
    "### 15. Reordenamos las columnas (para juntar 'Age' y 'Avg age'):"
   ]
  },
  {
   "cell_type": "code",
   "execution_count": 37,
   "metadata": {},
   "outputs": [
    {
     "data": {
      "text/html": [
       "<div>\n",
       "<style scoped>\n",
       "    .dataframe tbody tr th:only-of-type {\n",
       "        vertical-align: middle;\n",
       "    }\n",
       "\n",
       "    .dataframe tbody tr th {\n",
       "        vertical-align: top;\n",
       "    }\n",
       "\n",
       "    .dataframe thead th {\n",
       "        text-align: right;\n",
       "    }\n",
       "</style>\n",
       "<table border=\"1\" class=\"dataframe\">\n",
       "  <thead>\n",
       "    <tr style=\"text-align: right;\">\n",
       "      <th></th>\n",
       "      <th>Date</th>\n",
       "      <th>Year</th>\n",
       "      <th>Type</th>\n",
       "      <th>Country</th>\n",
       "      <th>Area</th>\n",
       "      <th>Location</th>\n",
       "      <th>Activity</th>\n",
       "      <th>Sex</th>\n",
       "      <th>Age</th>\n",
       "      <th>Avg age</th>\n",
       "      <th>Injury</th>\n",
       "      <th>Fatal</th>\n",
       "      <th>Investigator or Source</th>\n",
       "      <th>href formula</th>\n",
       "    </tr>\n",
       "  </thead>\n",
       "  <tbody>\n",
       "    <tr>\n",
       "      <td>0</td>\n",
       "      <td>2016.09.18</td>\n",
       "      <td>2016</td>\n",
       "      <td>Unprovoked</td>\n",
       "      <td>USA</td>\n",
       "      <td>Florida</td>\n",
       "      <td>New Smyrna Beach, Volusia County</td>\n",
       "      <td>Surfing</td>\n",
       "      <td>M</td>\n",
       "      <td>16.0</td>\n",
       "      <td>28.0</td>\n",
       "      <td>Minor injury to thigh</td>\n",
       "      <td>N</td>\n",
       "      <td>Orlando Sentinel, 9/19/2016</td>\n",
       "      <td>http://sharkattackfile.net/spreadsheets/pdf_di...</td>\n",
       "    </tr>\n",
       "  </tbody>\n",
       "</table>\n",
       "</div>"
      ],
      "text/plain": [
       "         Date  Year        Type Country     Area  \\\n",
       "0  2016.09.18  2016  Unprovoked     USA  Florida   \n",
       "\n",
       "                           Location Activity Sex   Age  Avg age  \\\n",
       "0  New Smyrna Beach, Volusia County  Surfing   M  16.0     28.0   \n",
       "\n",
       "                  Injury Fatal       Investigator or Source  \\\n",
       "0  Minor injury to thigh     N  Orlando Sentinel, 9/19/2016   \n",
       "\n",
       "                                        href formula  \n",
       "0  http://sharkattackfile.net/spreadsheets/pdf_di...  "
      ]
     },
     "execution_count": 37,
     "metadata": {},
     "output_type": "execute_result"
    }
   ],
   "source": [
    "column_order = ['Date', 'Year', 'Type', 'Country', 'Area', 'Location', 'Activity',\n",
    "       'Sex', 'Age', 'Avg age','Injury', 'Fatal', 'Investigator or Source',\n",
    "       'href formula']\n",
    "\n",
    "data1 = data1[column_order]\n",
    "    \n",
    "data1.head(1)"
   ]
  },
  {
   "cell_type": "markdown",
   "metadata": {},
   "source": [
    "### 16. Exportamos el dataset limpio como un archivo csv:"
   ]
  },
  {
   "cell_type": "code",
   "execution_count": 38,
   "metadata": {},
   "outputs": [],
   "source": [
    "data1.to_csv('data1.csv', index = False)"
   ]
  },
  {
   "cell_type": "code",
   "execution_count": 39,
   "metadata": {},
   "outputs": [
    {
     "name": "stdout",
     "output_type": "stream",
     "text": [
      "<class 'pandas.core.frame.DataFrame'>\n",
      "RangeIndex: 5992 entries, 0 to 5991\n",
      "Data columns (total 24 columns):\n",
      "Case Number               5992 non-null object\n",
      "Date                      5992 non-null object\n",
      "Year                      5992 non-null int64\n",
      "Type                      5992 non-null object\n",
      "Country                   5949 non-null object\n",
      "Area                      5590 non-null object\n",
      "Location                  5496 non-null object\n",
      "Activity                  5465 non-null object\n",
      "Name                      5792 non-null object\n",
      "Sex                       5425 non-null object\n",
      "Age                       3311 non-null object\n",
      "Injury                    5965 non-null object\n",
      "Fatal (Y/N)               5973 non-null object\n",
      "Time                      2779 non-null object\n",
      "Species                   3058 non-null object\n",
      "Investigator or Source    5977 non-null object\n",
      "pdf                       5992 non-null object\n",
      "href formula              5991 non-null object\n",
      "href                      5989 non-null object\n",
      "Case Number.1             5992 non-null object\n",
      "Case Number.2             5992 non-null object\n",
      "original order            5992 non-null int64\n",
      "Unnamed: 22               1 non-null object\n",
      "Unnamed: 23               2 non-null object\n",
      "dtypes: int64(2), object(22)\n",
      "memory usage: 1.1+ MB\n"
     ]
    }
   ],
   "source": [
    "# Comparación datos originales vs datos finales:\n",
    "data.info()"
   ]
  },
  {
   "cell_type": "code",
   "execution_count": 40,
   "metadata": {},
   "outputs": [
    {
     "name": "stdout",
     "output_type": "stream",
     "text": [
      "<class 'pandas.core.frame.DataFrame'>\n",
      "Int64Index: 5441 entries, 0 to 5440\n",
      "Data columns (total 14 columns):\n",
      "Date                      5441 non-null object\n",
      "Year                      5441 non-null int64\n",
      "Type                      5441 non-null object\n",
      "Country                   5441 non-null object\n",
      "Area                      5142 non-null object\n",
      "Location                  5071 non-null object\n",
      "Activity                  5010 non-null object\n",
      "Sex                       4924 non-null object\n",
      "Age                       3086 non-null float64\n",
      "Avg age                   5371 non-null float64\n",
      "Injury                    5422 non-null object\n",
      "Fatal                     5432 non-null object\n",
      "Investigator or Source    5428 non-null object\n",
      "href formula              5440 non-null object\n",
      "dtypes: float64(2), int64(1), object(11)\n",
      "memory usage: 637.6+ KB\n"
     ]
    }
   ],
   "source": [
    "data1.info()"
   ]
  }
 ],
 "metadata": {
  "kernelspec": {
   "display_name": "Python 3",
   "language": "python",
   "name": "python3"
  },
  "language_info": {
   "codemirror_mode": {
    "name": "ipython",
    "version": 3
   },
   "file_extension": ".py",
   "mimetype": "text/x-python",
   "name": "python",
   "nbconvert_exporter": "python",
   "pygments_lexer": "ipython3",
   "version": "3.7.4"
  }
 },
 "nbformat": 4,
 "nbformat_minor": 2
}
